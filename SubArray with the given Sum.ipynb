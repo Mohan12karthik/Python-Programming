{
 "cells": [
  {
   "cell_type": "code",
   "execution_count": 1,
   "id": "1a0b7d77",
   "metadata": {},
   "outputs": [
    {
     "name": "stdout",
     "output_type": "stream",
     "text": [
      "[0, 1, 2, 3, 4, 5, 6, 6, 7, 8]\n"
     ]
    }
   ],
   "source": [
    "def subArraySum(arr, n, k):\n",
    "    start=0\n",
    "    end=0\n",
    "    sum=0\n",
    "    \n",
    "    while end<n:\n",
    "        sum+=arr[end]\n",
    "        \n",
    "        while sum>k and start<end:\n",
    "            sum-=arr[start]\n",
    "            start+=1\n",
    "            \n",
    "        if sum==k:\n",
    "            print(\"Sum found between the indexes %d and %d\" %(start, end))\n",
    "            return 1\n",
    "        end+=1\n",
    "        \n",
    "    print(\"No subarray sum found!\")\n",
    "    return 0\n",
    "\n",
    "if __name__ == '__main__':\n",
    "    arr = [15, 2, 4, 8, 9, 5, 10, 23]\n",
    "    n = len(arr)\n",
    "    sum_ = 28\n",
    "\n",
    "subArraySum(arr, n, sum_)\n",
    "\n",
    "#Time Complexity: O(n) and Space Complexity: O(1)"
   ]
  },
  {
   "cell_type": "code",
   "execution_count": null,
   "id": "45078456",
   "metadata": {},
   "outputs": [],
   "source": []
  }
 ],
 "metadata": {
  "kernelspec": {
   "display_name": "Python 3 (ipykernel)",
   "language": "python",
   "name": "python3"
  },
  "language_info": {
   "codemirror_mode": {
    "name": "ipython",
    "version": 3
   },
   "file_extension": ".py",
   "mimetype": "text/x-python",
   "name": "python",
   "nbconvert_exporter": "python",
   "pygments_lexer": "ipython3",
   "version": "3.11.5"
  }
 },
 "nbformat": 4,
 "nbformat_minor": 5
}
