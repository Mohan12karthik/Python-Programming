{
 "cells": [
  {
   "cell_type": "code",
   "execution_count": 1,
   "id": "e99d3e95",
   "metadata": {},
   "outputs": [
    {
     "name": "stdout",
     "output_type": "stream",
     "text": [
      "The Longest Common Prefix: gee\n"
     ]
    }
   ],
   "source": [
    "def longestCommonPrefix(arr):\n",
    "#     res=\"\"\n",
    "    \n",
    "#     for i in range(len(arr[0])):\n",
    "#         for s in arr:\n",
    "#             if len(s)==0 or s[i]!=arr[0][i]:\n",
    "#                 return res\n",
    "#         res+=arr[0][i]\n",
    "#     return res\n",
    "\n",
    "    size = len(arr)\n",
    "    \n",
    "    if size==0:\n",
    "        return \"\"\n",
    "    if size==1:\n",
    "        return arr[0]\n",
    "    \n",
    "    arr.sort\n",
    "    \n",
    "    end = min(len(arr[0]), len(arr[size-1]))\n",
    "    i=0\n",
    "    \n",
    "    while i<end and arr[0][i] == arr[size-1][i]:\n",
    "        i+=1\n",
    "        \n",
    "    pre = arr[0][0:i]\n",
    "    return pre\n",
    "\n",
    "\n",
    "#     result = arr[0]\n",
    "#     length = len(result)\n",
    "    \n",
    "#     for i in range(1, len(arr)):\n",
    "#         while arr[i].find(result) != 0:\n",
    "#             result = result[:length-1]\n",
    "#             length-=1\n",
    "        \n",
    "#             if not result:\n",
    "#                 return -1\n",
    "#     return result\n",
    "\n",
    "\n",
    "\n",
    "if __name__ == \"__main__\":\n",
    "    input_list = [\"geeksforgeeks\", \"geeks\", \"geek\", \"geezer\"]\n",
    "    print(\"The Longest Common Prefix:\", longestCommonPrefix(input_list))\n",
    "\n",
    "#Time Complexity: O(m*n) and Space Complexity: O(n)"
   ]
  },
  {
   "cell_type": "code",
   "execution_count": null,
   "id": "30ea8c4c",
   "metadata": {},
   "outputs": [],
   "source": []
  }
 ],
 "metadata": {
  "kernelspec": {
   "display_name": "Python 3 (ipykernel)",
   "language": "python",
   "name": "python3"
  },
  "language_info": {
   "codemirror_mode": {
    "name": "ipython",
    "version": 3
   },
   "file_extension": ".py",
   "mimetype": "text/x-python",
   "name": "python",
   "nbconvert_exporter": "python",
   "pygments_lexer": "ipython3",
   "version": "3.11.5"
  }
 },
 "nbformat": 4,
 "nbformat_minor": 5
}
