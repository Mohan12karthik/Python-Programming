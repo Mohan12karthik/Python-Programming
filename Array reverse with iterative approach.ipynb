{
 "cells": [
  {
   "cell_type": "code",
   "execution_count": null,
   "id": "aa14f019",
   "metadata": {},
   "outputs": [],
   "source": [
    "def reverse(arr, n):\n",
    "    start=0\n",
    "    end=n-1\n",
    "    \n",
    "    while start<end:\n",
    "        arr[start], arr[end] = arr[end], arr[start]\n",
    "        start=start+1\n",
    "        end=end-1\n",
    "\n",
    "arr = [1, 2, 3, 4, 5]\n",
    "reverse(arr, 5)\n",
    "print(arr)\n",
    "\n",
    "#Time Complexity: O(n) and Space Complexity: O(1)"
   ]
  }
 ],
 "metadata": {
  "kernelspec": {
   "display_name": "Python 3 (ipykernel)",
   "language": "python",
   "name": "python3"
  },
  "language_info": {
   "codemirror_mode": {
    "name": "ipython",
    "version": 3
   },
   "file_extension": ".py",
   "mimetype": "text/x-python",
   "name": "python",
   "nbconvert_exporter": "python",
   "pygments_lexer": "ipython3",
   "version": "3.11.5"
  }
 },
 "nbformat": 4,
 "nbformat_minor": 5
}
