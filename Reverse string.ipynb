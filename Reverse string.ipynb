{
 "cells": [
  {
   "cell_type": "code",
   "execution_count": 1,
   "id": "0b4cbf28",
   "metadata": {},
   "outputs": [
    {
     "name": "stdout",
     "output_type": "stream",
     "text": [
      "!dlroW ,olleH\n",
      "skeegrofskeeg\n"
     ]
    }
   ],
   "source": [
    "def reverse_string(text):\n",
    "    return text[::-1]\n",
    "\n",
    "text = \"Hello, World!\"\n",
    "reversed_text = reverse_string(text)\n",
    "print(reversed_text)\n",
    "\n",
    "\"\"\" Extended slice offers to put a “step” field as [start, stop, step], \n",
    "and giving no field as start and stop indicates default to 0 and string length respectively, \n",
    "and “-1” denotes starting from the end and stop at the start, hence reversing a string.\n",
    "\"\"\"\n",
    "\n",
    "#Using Loop\n",
    "\n",
    "def reverse_str(string):\n",
    "    str=\"\"\n",
    "    \n",
    "    for i in string:\n",
    "        str=i+str\n",
    "    return str\n",
    "\n",
    "string=\"geeksforgeeks\"\n",
    "\n",
    "print(reverse_str(string))"
   ]
  },
  {
   "cell_type": "code",
   "execution_count": null,
   "id": "380d8380",
   "metadata": {},
   "outputs": [],
   "source": []
  }
 ],
 "metadata": {
  "kernelspec": {
   "display_name": "Python 3 (ipykernel)",
   "language": "python",
   "name": "python3"
  },
  "language_info": {
   "codemirror_mode": {
    "name": "ipython",
    "version": 3
   },
   "file_extension": ".py",
   "mimetype": "text/x-python",
   "name": "python",
   "nbconvert_exporter": "python",
   "pygments_lexer": "ipython3",
   "version": "3.11.5"
  }
 },
 "nbformat": 4,
 "nbformat_minor": 5
}
