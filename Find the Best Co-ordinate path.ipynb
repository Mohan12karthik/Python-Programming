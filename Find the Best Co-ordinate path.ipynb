{
 "cells": [
  {
   "cell_type": "code",
   "execution_count": 5,
   "id": "3b261c0d",
   "metadata": {},
   "outputs": [
    {
     "name": "stdout",
     "output_type": "stream",
     "text": [
      "5\n",
      "2 3 2 4 2\n",
      "5\n",
      "2 2 6 5 8\n",
      "Number of Co-ordinates in the best path 3\n"
     ]
    }
   ],
   "source": [
    "def funcDrop(xCoordinate, yCoordinate):\n",
    "    from collections import defaultdict\n",
    "    \n",
    "    # Create frequency dictionaries for x and y coordinates\n",
    "    x_count = defaultdict(int)\n",
    "    y_count = defaultdict(int)\n",
    "    \n",
    "    # Count occurrences of each x and y coordinate\n",
    "    for x in xCoordinate:\n",
    "        x_count[x] += 1\n",
    "    for y in yCoordinate:\n",
    "        y_count[y] += 1\n",
    "    \n",
    "    # Find the maximum number of points on any horizontal line\n",
    "    max_horizontal = max(y_count.values(), default=0)\n",
    "    \n",
    "    # Find the maximum number of points on any vertical line\n",
    "    max_vertical = max(x_count.values(), default=0)\n",
    "    \n",
    "    # Return the maximum of both horizontal and vertical\n",
    "    return max(max_horizontal, max_vertical)\n",
    "\n",
    "def main():\n",
    "    # Read input\n",
    "    xCoordinate_size = int(input())\n",
    "    xCoordinate = list(map(int, input().split()))\n",
    "    \n",
    "    yCoordinate_size = int(input())\n",
    "    yCoordinate = list(map(int, input().split()))\n",
    "    \n",
    "    # Calculate the result\n",
    "    result = funcDrop(xCoordinate, yCoordinate)\n",
    "    \n",
    "    # Print the result\n",
    "    print(\"Number of Co-ordinates in the best path\",result)\n",
    "\n",
    "if __name__ == \"__main__\":\n",
    "    main()"
   ]
  },
  {
   "cell_type": "code",
   "execution_count": null,
   "id": "7d2660aa",
   "metadata": {},
   "outputs": [],
   "source": []
  }
 ],
 "metadata": {
  "kernelspec": {
   "display_name": "Python 3 (ipykernel)",
   "language": "python",
   "name": "python3"
  },
  "language_info": {
   "codemirror_mode": {
    "name": "ipython",
    "version": 3
   },
   "file_extension": ".py",
   "mimetype": "text/x-python",
   "name": "python",
   "nbconvert_exporter": "python",
   "pygments_lexer": "ipython3",
   "version": "3.11.5"
  }
 },
 "nbformat": 4,
 "nbformat_minor": 5
}
