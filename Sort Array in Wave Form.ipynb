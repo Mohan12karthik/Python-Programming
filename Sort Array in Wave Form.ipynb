{
 "cells": [
  {
   "cell_type": "markdown",
   "id": "9559c0e1",
   "metadata": {},
   "source": [
    "# Sort Array in Wave Form"
   ]
  },
  {
   "cell_type": "code",
   "execution_count": 1,
   "id": "10de6898",
   "metadata": {},
   "outputs": [
    {
     "name": "stdout",
     "output_type": "stream",
     "text": [
      "[2, 1, 4, 3, 5]\n"
     ]
    }
   ],
   "source": [
    "def convertToWave(arr):\n",
    "    n=len(arr)\n",
    "    for i in range(0, n, 2):\n",
    "        if i>0 and arr[i]<arr[i-1]:\n",
    "            arr[i], arr[i-1] = arr[i-1], arr[i]\n",
    "        if i<n-1 and arr[i]<arr[i+1]:\n",
    "            arr[i], arr[i+1] = arr[i+1], arr[i]\n",
    "    return arr\n",
    "\n",
    "if __name__ == \"__main__\":\n",
    "    arr=[1, 2, 3, 4, 5]\n",
    "    print(convertToWave(arr))"
   ]
  },
  {
   "cell_type": "code",
   "execution_count": null,
   "id": "a1a6bf21",
   "metadata": {},
   "outputs": [],
   "source": []
  }
 ],
 "metadata": {
  "kernelspec": {
   "display_name": "Python 3 (ipykernel)",
   "language": "python",
   "name": "python3"
  },
  "language_info": {
   "codemirror_mode": {
    "name": "ipython",
    "version": 3
   },
   "file_extension": ".py",
   "mimetype": "text/x-python",
   "name": "python",
   "nbconvert_exporter": "python",
   "pygments_lexer": "ipython3",
   "version": "3.11.5"
  }
 },
 "nbformat": 4,
 "nbformat_minor": 5
}
