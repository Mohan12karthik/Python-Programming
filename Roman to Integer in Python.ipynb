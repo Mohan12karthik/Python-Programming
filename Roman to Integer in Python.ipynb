{
 "cells": [
  {
   "cell_type": "code",
   "execution_count": 1,
   "id": "353ce632",
   "metadata": {},
   "outputs": [
    {
     "name": "stdout",
     "output_type": "stream",
     "text": [
      "Enter a Roman numeral: III\n",
      "The integer value of the Roman numeral is: 3\n"
     ]
    }
   ],
   "source": [
    "class Solution:\n",
    "    def romanToInt(self, s: str) -> int:\n",
    "        roman_dict = {'I': 1, 'V': 5, 'X': 10, 'L': 50, 'C': 100, 'D': 500, 'M': 1000}\n",
    "        rom_int = 0\n",
    "        for i in range(len(s)):\n",
    "            if i > 0 and roman_dict[s[i]] > roman_dict[s[i-1]]:\n",
    "                rom_int += roman_dict[s[i]] - 2 * roman_dict[s[i-1]]\n",
    "            else:\n",
    "                rom_int += roman_dict[s[i]]\n",
    "        return rom_int\n",
    "\n",
    "# Get user input\n",
    "if __name__ == \"__main__\":\n",
    "    roman_numeral = input(\"Enter a Roman numeral: \")\n",
    "    solution = Solution()\n",
    "    result = solution.romanToInt(roman_numeral)\n",
    "    print(f\"The integer value of the Roman numeral is: {result}\")"
   ]
  },
  {
   "cell_type": "code",
   "execution_count": null,
   "id": "ae18b3b8",
   "metadata": {},
   "outputs": [],
   "source": []
  }
 ],
 "metadata": {
  "kernelspec": {
   "display_name": "Python 3 (ipykernel)",
   "language": "python",
   "name": "python3"
  },
  "language_info": {
   "codemirror_mode": {
    "name": "ipython",
    "version": 3
   },
   "file_extension": ".py",
   "mimetype": "text/x-python",
   "name": "python",
   "nbconvert_exporter": "python",
   "pygments_lexer": "ipython3",
   "version": "3.11.5"
  }
 },
 "nbformat": 4,
 "nbformat_minor": 5
}
