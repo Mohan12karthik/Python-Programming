{
 "cells": [
  {
   "cell_type": "code",
   "execution_count": 1,
   "id": "43897485",
   "metadata": {},
   "outputs": [
    {
     "name": "stdout",
     "output_type": "stream",
     "text": [
      "        * \n",
      "      * * * \n",
      "    * * * * * \n",
      "  * * * * * * * \n",
      "* * * * * * * * * \n"
     ]
    }
   ],
   "source": [
    "def full_pyramid(n):\n",
    "    for i in range(1,n+1):\n",
    "        for j in range(n-i):\n",
    "            print(\" \", end=\" \")\n",
    "        \n",
    "        for k in range(1, i*2):\n",
    "                print(\"*\", end=\" \")\n",
    "        print()\n",
    "\n",
    "full_pyramid(5)"
   ]
  },
  {
   "cell_type": "code",
   "execution_count": null,
   "id": "a45ca12c",
   "metadata": {},
   "outputs": [],
   "source": []
  }
 ],
 "metadata": {
  "kernelspec": {
   "display_name": "Python 3 (ipykernel)",
   "language": "python",
   "name": "python3"
  },
  "language_info": {
   "codemirror_mode": {
    "name": "ipython",
    "version": 3
   },
   "file_extension": ".py",
   "mimetype": "text/x-python",
   "name": "python",
   "nbconvert_exporter": "python",
   "pygments_lexer": "ipython3",
   "version": "3.11.5"
  }
 },
 "nbformat": 4,
 "nbformat_minor": 5
}
