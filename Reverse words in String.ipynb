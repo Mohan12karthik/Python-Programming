{
 "cells": [
  {
   "cell_type": "code",
   "execution_count": 1,
   "id": "ce48c2f2",
   "metadata": {},
   "outputs": [
    {
     "name": "stdout",
     "output_type": "stream",
     "text": [
      "much.very.program.this.like.i\n"
     ]
    }
   ],
   "source": [
    "def reverse_words(str):\n",
    "    stack=[]\n",
    "    word=\"\"\n",
    "    \n",
    "    for ch in str: # If not a dot, build the current word\n",
    "        if ch!='.':\n",
    "            word+=ch\n",
    "        elif word: # If we see a dot, push the word into the stack\n",
    "            stack.append(word)\n",
    "            word=\"\"\n",
    "    if word:\n",
    "        stack.append(word)\n",
    "    \n",
    "    return \".\".join(stack[::-1]) # Rebuild the string from the stack\n",
    "\n",
    "\n",
    "if __name__ == \"__main__\":\n",
    "    str = \"i.like.this.program.very.much\"\n",
    "    print(reverse_words(str))"
   ]
  },
  {
   "cell_type": "code",
   "execution_count": null,
   "id": "4f3b83bc",
   "metadata": {},
   "outputs": [],
   "source": []
  }
 ],
 "metadata": {
  "kernelspec": {
   "display_name": "Python 3 (ipykernel)",
   "language": "python",
   "name": "python3"
  },
  "language_info": {
   "codemirror_mode": {
    "name": "ipython",
    "version": 3
   },
   "file_extension": ".py",
   "mimetype": "text/x-python",
   "name": "python",
   "nbconvert_exporter": "python",
   "pygments_lexer": "ipython3",
   "version": "3.11.5"
  }
 },
 "nbformat": 4,
 "nbformat_minor": 5
}
