{
 "cells": [
  {
   "cell_type": "code",
   "execution_count": 1,
   "id": "465815e7",
   "metadata": {},
   "outputs": [
    {
     "name": "stdout",
     "output_type": "stream",
     "text": [
      "45\n"
     ]
    }
   ],
   "source": [
    "def secLargest(arr):\n",
    "    sl = 0\n",
    "    largest = min(arr)\n",
    "    \n",
    "    for i in range(len(arr)):\n",
    "        if arr[i]>largest:\n",
    "            sl=largest\n",
    "            largest=arr[i]\n",
    "        else:\n",
    "            sl = max(sl, arr[i])\n",
    "\n",
    "    return sl\n",
    "\n",
    "print(secLargest([10, 20, 4, 45, 99]))\n",
    "#Time Complexity: O(n) and Space Complexity: O(1)"
   ]
  },
  {
   "cell_type": "code",
   "execution_count": null,
   "id": "eda256dc",
   "metadata": {},
   "outputs": [],
   "source": []
  }
 ],
 "metadata": {
  "kernelspec": {
   "display_name": "Python 3 (ipykernel)",
   "language": "python",
   "name": "python3"
  },
  "language_info": {
   "codemirror_mode": {
    "name": "ipython",
    "version": 3
   },
   "file_extension": ".py",
   "mimetype": "text/x-python",
   "name": "python",
   "nbconvert_exporter": "python",
   "pygments_lexer": "ipython3",
   "version": "3.11.5"
  }
 },
 "nbformat": 4,
 "nbformat_minor": 5
}
