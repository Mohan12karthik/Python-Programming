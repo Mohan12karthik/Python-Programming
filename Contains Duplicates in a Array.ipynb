{
 "cells": [
  {
   "cell_type": "markdown",
   "id": "9559c0e1",
   "metadata": {},
   "source": [
    "# Contains Duplicates in a Array"
   ]
  },
  {
   "cell_type": "code",
   "execution_count": 3,
   "id": "10de6898",
   "metadata": {},
   "outputs": [
    {
     "name": "stdout",
     "output_type": "stream",
     "text": [
      "True\n"
     ]
    }
   ],
   "source": [
    "def contains_duplicates(nums, k):\n",
    "    n=len(nums)\n",
    "    d={}\n",
    "    for i in range(n):\n",
    "        if nums[i] in d and i - d[nums[i]] <= k:\n",
    "            return True\n",
    "        d[nums[i]]=i\n",
    "    return False\n",
    "\n",
    "if __name__ == \"__main__\":\n",
    "    arr=[1,2,3,1]\n",
    "    k=3\n",
    "    print(contains_duplicates(arr, k))"
   ]
  },
  {
   "cell_type": "code",
   "execution_count": null,
   "id": "a1a6bf21",
   "metadata": {},
   "outputs": [],
   "source": []
  }
 ],
 "metadata": {
  "kernelspec": {
   "display_name": "Python 3 (ipykernel)",
   "language": "python",
   "name": "python3"
  },
  "language_info": {
   "codemirror_mode": {
    "name": "ipython",
    "version": 3
   },
   "file_extension": ".py",
   "mimetype": "text/x-python",
   "name": "python",
   "nbconvert_exporter": "python",
   "pygments_lexer": "ipython3",
   "version": "3.11.5"
  }
 },
 "nbformat": 4,
 "nbformat_minor": 5
}
